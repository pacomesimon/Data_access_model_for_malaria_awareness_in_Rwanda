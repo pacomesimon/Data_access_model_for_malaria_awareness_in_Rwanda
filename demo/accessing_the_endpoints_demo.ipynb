{
 "cells": [
  {
   "cell_type": "code",
   "execution_count": 1,
   "id": "6dbe5866",
   "metadata": {},
   "outputs": [],
   "source": [
    "import requests\n",
    "import json\n",
    "import pandas as pd"
   ]
  },
  {
   "cell_type": "markdown",
   "id": "8ae20fad",
   "metadata": {},
   "source": [
    "# Demo: Sending requests"
   ]
  },
  {
   "cell_type": "markdown",
   "id": "4fe4060d",
   "metadata": {},
   "source": [
    "This demo aims at showing how requests can be sent to the server.\n",
    "Following the instructions shown in the [README.md file](../README.md), the `app.py` (which runs the server) should have been successfxully executed.\n",
    "We then configure these variables (run the following cell):"
   ]
  },
  {
   "cell_type": "code",
   "execution_count": 2,
   "id": "28233d1b",
   "metadata": {},
   "outputs": [],
   "source": [
    "domain_name=\"localhost\"\n",
    "port=3000\n",
    "auth_token = json.dumps(\n",
    "            {\n",
    "                \"email\":\"1000@gmail.com\",\n",
    "                 \"password\":\"qwert2000\"\n",
    "            })"
   ]
  },
  {
   "cell_type": "markdown",
   "id": "112a34fe",
   "metadata": {},
   "source": [
    "## The root endpoint"
   ]
  },
  {
   "cell_type": "markdown",
   "id": "8182ae96",
   "metadata": {},
   "source": [
    "This endpoint sends a hello world message.\n",
    "\n",
    "The URL follows this structure:\n",
    "\n",
    "`http://{{domain_name}}:{{port}}`\n",
    "\n",
    "The table below shows examples of values each variable can take:\n",
    "\n",
    "| Variable | Value |\n",
    "| --- | --- |\n",
    "| domain_name | localhost |\n",
    "| port | 3000 |"
   ]
  },
  {
   "cell_type": "code",
   "execution_count": 3,
   "id": "cac6a581",
   "metadata": {},
   "outputs": [
    {
     "name": "stdout",
     "output_type": "stream",
     "text": [
      "\n",
      "    <h1>Hello world! </h1>  <!-- Display a header with the welcome message -->\n",
      "    Welcome to the Data Access System\n",
      "    for Malaria Awareness in Rwanda!  <!-- Display a descriptive welcome message -->\n",
      "    \n"
     ]
    }
   ],
   "source": [
    "url = f\"http://{domain_name}:{port}/\"\n",
    "payload = \"\"\n",
    "headers = {}\n",
    "\n",
    "response = requests.request(\"GET\", url, headers=headers, data=payload)\n",
    "\n",
    "print(response.text)"
   ]
  },
  {
   "cell_type": "markdown",
   "id": "2525209f",
   "metadata": {},
   "source": [
    "### Remark:\n",
    "Given that the above section's code can be strategised, from this part onwards, this function will be used to ease sending requests:"
   ]
  },
  {
   "cell_type": "code",
   "execution_count": 4,
   "id": "d813b584",
   "metadata": {},
   "outputs": [],
   "source": [
    "def query(table_name=\"patient\",uri=\"\",payload=\"\",headers={},action=\"GET\"):\n",
    "    url = f\"http://{domain_name}:{port}/tables/{table_name}{uri}\"\n",
    "    print(url)\n",
    "\n",
    "    response = requests.request(action, url, headers=headers, data=payload)\n",
    "\n",
    "    return(json.loads(response.text))"
   ]
  },
  {
   "cell_type": "markdown",
   "id": "828dabe8",
   "metadata": {},
   "source": [
    "## Retrieve a table"
   ]
  },
  {
   "cell_type": "markdown",
   "id": "8879e310",
   "metadata": {},
   "source": [
    "URL pattern: `http://{{domain_name}}:{{port}}/tables/{{table_name}}`\n",
    "This endpoint retrieves the whole table.\n",
    "\n",
    "The table below shows examples of values each variable can take:\n",
    "\n",
    "| Variable | Value |\n",
    "| --- | --- |\n",
    "| domain_name | localhost |\n",
    "| port | 3000 |\n",
    "| table_name | **malaria_results** (can also be any table name present in the database) |\n",
    "\n",
    "Authentication is needed for access, which is done through inputing the `Authorization` header with credentials as its value (such as `{\"email\":\"`[<code>1000@gmail.com</code>](https://)`\",\"password\":\"qwert2000\"}`) in the request.\n"
   ]
  },
  {
   "cell_type": "code",
   "execution_count": 5,
   "id": "4f52764a",
   "metadata": {},
   "outputs": [
    {
     "name": "stdout",
     "output_type": "stream",
     "text": [
      "http://localhost:3000/tables/malaria_results\n"
     ]
    }
   ],
   "source": [
    "malaria_results_dict = query(table_name=\"malaria_results\",\n",
    "      uri=\"\",\n",
    "      payload='',\n",
    "      headers={\n",
    "          'Authorization': auth_token,\n",
    "          'Content-Type': 'application/json'\n",
    "        },\n",
    "      action=\"GET\")"
   ]
  },
  {
   "cell_type": "code",
   "execution_count": 6,
   "id": "f92fa2c8",
   "metadata": {},
   "outputs": [
    {
     "data": {
      "text/html": [
       "<div>\n",
       "<style scoped>\n",
       "    .dataframe tbody tr th:only-of-type {\n",
       "        vertical-align: middle;\n",
       "    }\n",
       "\n",
       "    .dataframe tbody tr th {\n",
       "        vertical-align: top;\n",
       "    }\n",
       "\n",
       "    .dataframe thead th {\n",
       "        text-align: right;\n",
       "    }\n",
       "</style>\n",
       "<table border=\"1\" class=\"dataframe\">\n",
       "  <thead>\n",
       "    <tr style=\"text-align: right;\">\n",
       "      <th></th>\n",
       "      <th>blood_test_id</th>\n",
       "      <th>id</th>\n",
       "      <th>malaria_status</th>\n",
       "      <th>parasite_type</th>\n",
       "    </tr>\n",
       "  </thead>\n",
       "  <tbody>\n",
       "    <tr>\n",
       "      <th>0</th>\n",
       "      <td>0</td>\n",
       "      <td>0</td>\n",
       "      <td>positive</td>\n",
       "      <td>pf</td>\n",
       "    </tr>\n",
       "    <tr>\n",
       "      <th>1</th>\n",
       "      <td>1</td>\n",
       "      <td>1</td>\n",
       "      <td>negative</td>\n",
       "      <td>pm</td>\n",
       "    </tr>\n",
       "    <tr>\n",
       "      <th>2</th>\n",
       "      <td>2</td>\n",
       "      <td>2</td>\n",
       "      <td>negative</td>\n",
       "      <td>pm</td>\n",
       "    </tr>\n",
       "    <tr>\n",
       "      <th>3</th>\n",
       "      <td>3</td>\n",
       "      <td>3</td>\n",
       "      <td>positive</td>\n",
       "      <td>pv</td>\n",
       "    </tr>\n",
       "    <tr>\n",
       "      <th>4</th>\n",
       "      <td>4</td>\n",
       "      <td>4</td>\n",
       "      <td>positive</td>\n",
       "      <td>pm</td>\n",
       "    </tr>\n",
       "    <tr>\n",
       "      <th>...</th>\n",
       "      <td>...</td>\n",
       "      <td>...</td>\n",
       "      <td>...</td>\n",
       "      <td>...</td>\n",
       "    </tr>\n",
       "    <tr>\n",
       "      <th>11995</th>\n",
       "      <td>11995</td>\n",
       "      <td>11995</td>\n",
       "      <td>positive</td>\n",
       "      <td>pm</td>\n",
       "    </tr>\n",
       "    <tr>\n",
       "      <th>11996</th>\n",
       "      <td>11996</td>\n",
       "      <td>11996</td>\n",
       "      <td>positive</td>\n",
       "      <td>pm</td>\n",
       "    </tr>\n",
       "    <tr>\n",
       "      <th>11997</th>\n",
       "      <td>11997</td>\n",
       "      <td>11997</td>\n",
       "      <td>positive</td>\n",
       "      <td>pm</td>\n",
       "    </tr>\n",
       "    <tr>\n",
       "      <th>11998</th>\n",
       "      <td>11998</td>\n",
       "      <td>11998</td>\n",
       "      <td>negative</td>\n",
       "      <td>pf</td>\n",
       "    </tr>\n",
       "    <tr>\n",
       "      <th>11999</th>\n",
       "      <td>11999</td>\n",
       "      <td>11999</td>\n",
       "      <td>positive</td>\n",
       "      <td>pf</td>\n",
       "    </tr>\n",
       "  </tbody>\n",
       "</table>\n",
       "<p>12000 rows × 4 columns</p>\n",
       "</div>"
      ],
      "text/plain": [
       "       blood_test_id     id malaria_status parasite_type\n",
       "0                  0      0       positive            pf\n",
       "1                  1      1       negative            pm\n",
       "2                  2      2       negative            pm\n",
       "3                  3      3       positive            pv\n",
       "4                  4      4       positive            pm\n",
       "...              ...    ...            ...           ...\n",
       "11995          11995  11995       positive            pm\n",
       "11996          11996  11996       positive            pm\n",
       "11997          11997  11997       positive            pm\n",
       "11998          11998  11998       negative            pf\n",
       "11999          11999  11999       positive            pf\n",
       "\n",
       "[12000 rows x 4 columns]"
      ]
     },
     "execution_count": 6,
     "metadata": {},
     "output_type": "execute_result"
    }
   ],
   "source": [
    "malaria_results_df = pd.DataFrame.from_dict(malaria_results_dict,orient='index')\n",
    "malaria_results_df"
   ]
  },
  {
   "cell_type": "markdown",
   "id": "ee49240a",
   "metadata": {},
   "source": [
    "## Sampling"
   ]
  },
  {
   "cell_type": "markdown",
   "id": "0ec82cc0",
   "metadata": {},
   "source": [
    "URL pattern: `http://{{domain_name}}:{{port}}/tables/{{table_name}}/sampling`\n",
    "\n",
    "Returns random samples from the table with a number equal to the \"batch_size\". It excludes those in \"previous_indexes\" (see the `Body` of the request example shown here below).\n",
    "\n",
    "The table below shows examples of values each variable can take:\n",
    "\n",
    "| Variable | Value |\n",
    "| --- | --- |\n",
    "| domain_name | localhost |\n",
    "| port | 3000 |\n",
    "| table_name | **patient** (can also be any table name present in the database) |\n",
    "\n",
    "Authentication is needed for access, which is done through inputing the `Authorization` header with credentials as its value (such as `{\"email\":\"`[<code>1000@gmail.com</code>](https://)`\",\"password\":\"qwert2000\"}`) in the request."
   ]
  },
  {
   "cell_type": "code",
   "execution_count": 7,
   "id": "cef41649",
   "metadata": {},
   "outputs": [
    {
     "name": "stdout",
     "output_type": "stream",
     "text": [
      "http://localhost:3000/tables/patient/sampling\n"
     ]
    }
   ],
   "source": [
    "sample_patients_dict = query(table_name=\"patient\",\n",
    "      uri=\"/sampling\",\n",
    "      payload=json.dumps({\n",
    "              \"batch_size\": 5,\n",
    "              \"previous_indexes\": [1,2,3]\n",
    "            }),\n",
    "      headers={\n",
    "          'Authorization': auth_token,\n",
    "          'Content-Type': 'application/json'\n",
    "        },\n",
    "      action=\"GET\")"
   ]
  },
  {
   "cell_type": "code",
   "execution_count": 8,
   "id": "c9c0df97",
   "metadata": {},
   "outputs": [
    {
     "data": {
      "text/html": [
       "<div>\n",
       "<style scoped>\n",
       "    .dataframe tbody tr th:only-of-type {\n",
       "        vertical-align: middle;\n",
       "    }\n",
       "\n",
       "    .dataframe tbody tr th {\n",
       "        vertical-align: top;\n",
       "    }\n",
       "\n",
       "    .dataframe thead th {\n",
       "        text-align: right;\n",
       "    }\n",
       "</style>\n",
       "<table border=\"1\" class=\"dataframe\">\n",
       "  <thead>\n",
       "    <tr style=\"text-align: right;\">\n",
       "      <th></th>\n",
       "      <th>date_of_birth</th>\n",
       "      <th>gender</th>\n",
       "      <th>health_center_id</th>\n",
       "      <th>id</th>\n",
       "      <th>name</th>\n",
       "      <th>village_id</th>\n",
       "    </tr>\n",
       "  </thead>\n",
       "  <tbody>\n",
       "    <tr>\n",
       "      <th>0</th>\n",
       "      <td>Tue, 10 Oct 1933 11:43:20 GMT</td>\n",
       "      <td>female</td>\n",
       "      <td>600</td>\n",
       "      <td>588</td>\n",
       "      <td>PORYPOYJYK</td>\n",
       "      <td>53140306</td>\n",
       "    </tr>\n",
       "    <tr>\n",
       "      <th>1</th>\n",
       "      <td>Fri, 15 Jun 1990 17:20:00 GMT</td>\n",
       "      <td>male</td>\n",
       "      <td>644</td>\n",
       "      <td>6346</td>\n",
       "      <td>LDGPFLKUIT</td>\n",
       "      <td>42090404</td>\n",
       "    </tr>\n",
       "    <tr>\n",
       "      <th>2</th>\n",
       "      <td>Wed, 19 Jan 1955 07:40:00 GMT</td>\n",
       "      <td>female</td>\n",
       "      <td>768</td>\n",
       "      <td>6575</td>\n",
       "      <td>XRPVSLUKBN</td>\n",
       "      <td>52070108</td>\n",
       "    </tr>\n",
       "    <tr>\n",
       "      <th>3</th>\n",
       "      <td>Wed, 14 Jul 2004 06:46:40 GMT</td>\n",
       "      <td>female</td>\n",
       "      <td>184</td>\n",
       "      <td>7032</td>\n",
       "      <td>OSLCGFXRAL</td>\n",
       "      <td>43090202</td>\n",
       "    </tr>\n",
       "    <tr>\n",
       "      <th>4</th>\n",
       "      <td>Fri, 05 Nov 1993 08:28:20 GMT</td>\n",
       "      <td>male</td>\n",
       "      <td>710</td>\n",
       "      <td>9156</td>\n",
       "      <td>VBBSBLNKAH</td>\n",
       "      <td>55110512</td>\n",
       "    </tr>\n",
       "  </tbody>\n",
       "</table>\n",
       "</div>"
      ],
      "text/plain": [
       "                   date_of_birth  gender  health_center_id    id        name  \\\n",
       "0  Tue, 10 Oct 1933 11:43:20 GMT  female               600   588  PORYPOYJYK   \n",
       "1  Fri, 15 Jun 1990 17:20:00 GMT    male               644  6346  LDGPFLKUIT   \n",
       "2  Wed, 19 Jan 1955 07:40:00 GMT  female               768  6575  XRPVSLUKBN   \n",
       "3  Wed, 14 Jul 2004 06:46:40 GMT  female               184  7032  OSLCGFXRAL   \n",
       "4  Fri, 05 Nov 1993 08:28:20 GMT    male               710  9156  VBBSBLNKAH   \n",
       "\n",
       "   village_id  \n",
       "0    53140306  \n",
       "1    42090404  \n",
       "2    52070108  \n",
       "3    43090202  \n",
       "4    55110512  "
      ]
     },
     "execution_count": 8,
     "metadata": {},
     "output_type": "execute_result"
    }
   ],
   "source": [
    "sample_patients_dict_df = pd.DataFrame.from_dict(sample_patients_dict[\"data\"],orient='index')\n",
    "sample_patients_dict_df"
   ]
  },
  {
   "cell_type": "markdown",
   "id": "e1a329a8",
   "metadata": {},
   "source": [
    "## Time Filtering"
   ]
  },
  {
   "cell_type": "markdown",
   "id": "70bd2af8",
   "metadata": {},
   "source": [
    "URL pattern: `http://{{domain_name}}:{{port}}/tables/{{table_name}}/timefilter`\n",
    "\n",
    "Returns entries whose values in \"date\" column are in the specified range (see the `Body` of the request example shown here below).\n",
    "\n",
    "The table below shows examples of values each variable can take:\n",
    "\n",
    "| Variable | Value |\n",
    "| --- | --- |\n",
    "| domain_name | localhost |\n",
    "| port | 3000 |\n",
    "| table_name | **case_cache** (or **blood_test**) |\n",
    "\n",
    "Authentication is needed for access, which is done through inputing the `Authorization` header with credentials as its value (such as `{\"email\":\"`[<code>1000@gmail.com</code>](https://)`\",\"password\":\"qwert2000\"}`) in the request."
   ]
  },
  {
   "cell_type": "code",
   "execution_count": 9,
   "id": "ae1d33de",
   "metadata": {},
   "outputs": [
    {
     "name": "stdout",
     "output_type": "stream",
     "text": [
      "http://localhost:3000/tables/blood_test/timefilter\n"
     ]
    }
   ],
   "source": [
    "tests_2022_dict = query(table_name=\"blood_test\",\n",
    "      uri=\"/timefilter\",\n",
    "      payload=json.dumps({\n",
    "            \"early_date\": \"2022-01-01\",\n",
    "            \"late_date\": \"2023-01-01\"\n",
    "        }),\n",
    "      headers={\n",
    "          'Authorization': auth_token,\n",
    "          'Content-Type': 'application/json'\n",
    "        },\n",
    "      action=\"GET\")"
   ]
  },
  {
   "cell_type": "code",
   "execution_count": 10,
   "id": "845a83d8",
   "metadata": {},
   "outputs": [
    {
     "data": {
      "text/html": [
       "<div>\n",
       "<style scoped>\n",
       "    .dataframe tbody tr th:only-of-type {\n",
       "        vertical-align: middle;\n",
       "    }\n",
       "\n",
       "    .dataframe tbody tr th {\n",
       "        vertical-align: top;\n",
       "    }\n",
       "\n",
       "    .dataframe thead th {\n",
       "        text-align: right;\n",
       "    }\n",
       "</style>\n",
       "<table border=\"1\" class=\"dataframe\">\n",
       "  <thead>\n",
       "    <tr style=\"text-align: right;\">\n",
       "      <th></th>\n",
       "      <th>date</th>\n",
       "      <th>id</th>\n",
       "      <th>image_url</th>\n",
       "      <th>patient_id</th>\n",
       "    </tr>\n",
       "  </thead>\n",
       "  <tbody>\n",
       "    <tr>\n",
       "      <th>0</th>\n",
       "      <td>Sat, 01 Jan 2022 00:00:00 GMT</td>\n",
       "      <td>5515</td>\n",
       "      <td>https://9G2eC40rv.com/qCrBgHqn17WHMPQHv</td>\n",
       "      <td>8482</td>\n",
       "    </tr>\n",
       "    <tr>\n",
       "      <th>1</th>\n",
       "      <td>Fri, 07 Jan 2022 00:00:00 GMT</td>\n",
       "      <td>5516</td>\n",
       "      <td>https://7wMIm4.com/t2l4t</td>\n",
       "      <td>712</td>\n",
       "    </tr>\n",
       "    <tr>\n",
       "      <th>2</th>\n",
       "      <td>Tue, 11 Jan 2022 00:00:00 GMT</td>\n",
       "      <td>5517</td>\n",
       "      <td>https://Qa9ua7pBFW1.com/nRtGBf9</td>\n",
       "      <td>4351</td>\n",
       "    </tr>\n",
       "    <tr>\n",
       "      <th>3</th>\n",
       "      <td>Wed, 12 Jan 2022 00:00:00 GMT</td>\n",
       "      <td>5518</td>\n",
       "      <td>https://5EVI37.com/agGOEFra</td>\n",
       "      <td>4993</td>\n",
       "    </tr>\n",
       "    <tr>\n",
       "      <th>4</th>\n",
       "      <td>Thu, 13 Jan 2022 00:00:00 GMT</td>\n",
       "      <td>5519</td>\n",
       "      <td>https://CUhEgkq7ywCVk.com/oMkTcNcnu2T</td>\n",
       "      <td>1170</td>\n",
       "    </tr>\n",
       "    <tr>\n",
       "      <th>...</th>\n",
       "      <td>...</td>\n",
       "      <td>...</td>\n",
       "      <td>...</td>\n",
       "      <td>...</td>\n",
       "    </tr>\n",
       "    <tr>\n",
       "      <th>90</th>\n",
       "      <td>Sat, 03 Dec 2022 00:00:00 GMT</td>\n",
       "      <td>5605</td>\n",
       "      <td>https://LVoCINNpSClRaIMGen8.com/Mj05KE</td>\n",
       "      <td>5103</td>\n",
       "    </tr>\n",
       "    <tr>\n",
       "      <th>91</th>\n",
       "      <td>Sun, 04 Dec 2022 00:00:00 GMT</td>\n",
       "      <td>5606</td>\n",
       "      <td>https://9G2eC40rv.com/qCrBgHqn17WHMPQHv</td>\n",
       "      <td>8251</td>\n",
       "    </tr>\n",
       "    <tr>\n",
       "      <th>92</th>\n",
       "      <td>Wed, 07 Dec 2022 00:00:00 GMT</td>\n",
       "      <td>5607</td>\n",
       "      <td>https://7wMIm4.com/t2l4t</td>\n",
       "      <td>6505</td>\n",
       "    </tr>\n",
       "    <tr>\n",
       "      <th>93</th>\n",
       "      <td>Sun, 25 Dec 2022 00:00:00 GMT</td>\n",
       "      <td>5608</td>\n",
       "      <td>https://Qa9ua7pBFW1.com/nRtGBf9</td>\n",
       "      <td>7510</td>\n",
       "    </tr>\n",
       "    <tr>\n",
       "      <th>94</th>\n",
       "      <td>Wed, 28 Dec 2022 00:00:00 GMT</td>\n",
       "      <td>5609</td>\n",
       "      <td>https://5EVI37.com/agGOEFra</td>\n",
       "      <td>7125</td>\n",
       "    </tr>\n",
       "  </tbody>\n",
       "</table>\n",
       "<p>95 rows × 4 columns</p>\n",
       "</div>"
      ],
      "text/plain": [
       "                             date    id  \\\n",
       "0   Sat, 01 Jan 2022 00:00:00 GMT  5515   \n",
       "1   Fri, 07 Jan 2022 00:00:00 GMT  5516   \n",
       "2   Tue, 11 Jan 2022 00:00:00 GMT  5517   \n",
       "3   Wed, 12 Jan 2022 00:00:00 GMT  5518   \n",
       "4   Thu, 13 Jan 2022 00:00:00 GMT  5519   \n",
       "..                            ...   ...   \n",
       "90  Sat, 03 Dec 2022 00:00:00 GMT  5605   \n",
       "91  Sun, 04 Dec 2022 00:00:00 GMT  5606   \n",
       "92  Wed, 07 Dec 2022 00:00:00 GMT  5607   \n",
       "93  Sun, 25 Dec 2022 00:00:00 GMT  5608   \n",
       "94  Wed, 28 Dec 2022 00:00:00 GMT  5609   \n",
       "\n",
       "                                  image_url  patient_id  \n",
       "0   https://9G2eC40rv.com/qCrBgHqn17WHMPQHv        8482  \n",
       "1                  https://7wMIm4.com/t2l4t         712  \n",
       "2           https://Qa9ua7pBFW1.com/nRtGBf9        4351  \n",
       "3               https://5EVI37.com/agGOEFra        4993  \n",
       "4     https://CUhEgkq7ywCVk.com/oMkTcNcnu2T        1170  \n",
       "..                                      ...         ...  \n",
       "90   https://LVoCINNpSClRaIMGen8.com/Mj05KE        5103  \n",
       "91  https://9G2eC40rv.com/qCrBgHqn17WHMPQHv        8251  \n",
       "92                 https://7wMIm4.com/t2l4t        6505  \n",
       "93          https://Qa9ua7pBFW1.com/nRtGBf9        7510  \n",
       "94              https://5EVI37.com/agGOEFra        7125  \n",
       "\n",
       "[95 rows x 4 columns]"
      ]
     },
     "execution_count": 10,
     "metadata": {},
     "output_type": "execute_result"
    }
   ],
   "source": [
    "tests_2022_dict_df = pd.DataFrame.from_dict(tests_2022_dict,orient='index')\n",
    "tests_2022_dict_df"
   ]
  },
  {
   "cell_type": "markdown",
   "id": "73ad0517",
   "metadata": {},
   "source": [
    "## Column - Key filtering"
   ]
  },
  {
   "cell_type": "markdown",
   "id": "f8a57bb0",
   "metadata": {},
   "source": [
    "URL pattern: `http://{{domain_name}}:{{port}}/tables/{{table_name}}/{{column_name}}/{{key}}`\n",
    "\n",
    "This retrieves particular entries that have the same value in a column of a certain table.\n",
    "\n",
    "The table below shows examples of values each variable can take:\n",
    "\n",
    "| Variable | Value |\n",
    "| --- | --- |\n",
    "| domain_name | localhost |\n",
    "| port | 3000 |\n",
    "| table_name | **patient** (can also be any table name present in the database) |\n",
    "| column_name | **gender** (can also be any column name present in the database table) |\n",
    "| key | male (can also be any other value present in the table's column) |\n",
    "\n",
    "Access to this endpoint needs authentication, which is done through inputing the `Authorization` header with credentials as its value (such as `{\"email\":\"`[<code>1000@gmail.com</code>](https://)`\",\"password\":\"qwert2000\"}`) in the request."
   ]
  },
  {
   "cell_type": "code",
   "execution_count": 11,
   "id": "9745b615",
   "metadata": {},
   "outputs": [
    {
     "name": "stdout",
     "output_type": "stream",
     "text": [
      "http://localhost:3000/tables/patient/gender/male\n"
     ]
    }
   ],
   "source": [
    "male_patients_dict = query(table_name=\"patient\",\n",
    "      uri=\"/gender/male\",\n",
    "      payload=\"\",\n",
    "      headers={\n",
    "          'Authorization': auth_token,\n",
    "          'Content-Type': 'application/json'\n",
    "        },\n",
    "      action=\"GET\")"
   ]
  },
  {
   "cell_type": "code",
   "execution_count": 12,
   "id": "6112573c",
   "metadata": {},
   "outputs": [
    {
     "data": {
      "text/html": [
       "<div>\n",
       "<style scoped>\n",
       "    .dataframe tbody tr th:only-of-type {\n",
       "        vertical-align: middle;\n",
       "    }\n",
       "\n",
       "    .dataframe tbody tr th {\n",
       "        vertical-align: top;\n",
       "    }\n",
       "\n",
       "    .dataframe thead th {\n",
       "        text-align: right;\n",
       "    }\n",
       "</style>\n",
       "<table border=\"1\" class=\"dataframe\">\n",
       "  <thead>\n",
       "    <tr style=\"text-align: right;\">\n",
       "      <th></th>\n",
       "      <th>date_of_birth</th>\n",
       "      <th>gender</th>\n",
       "      <th>health_center_id</th>\n",
       "      <th>id</th>\n",
       "      <th>name</th>\n",
       "      <th>village_id</th>\n",
       "    </tr>\n",
       "  </thead>\n",
       "  <tbody>\n",
       "    <tr>\n",
       "      <th>0</th>\n",
       "      <td>Tue, 01 Aug 2017 19:53:20 GMT</td>\n",
       "      <td>male</td>\n",
       "      <td>264</td>\n",
       "      <td>0</td>\n",
       "      <td>OJMRJGGUNZ</td>\n",
       "      <td>34110108</td>\n",
       "    </tr>\n",
       "    <tr>\n",
       "      <th>1</th>\n",
       "      <td>Mon, 04 Jul 2005 22:53:20 GMT</td>\n",
       "      <td>male</td>\n",
       "      <td>241</td>\n",
       "      <td>1</td>\n",
       "      <td>OANQKDPEIT</td>\n",
       "      <td>22050104</td>\n",
       "    </tr>\n",
       "    <tr>\n",
       "      <th>2</th>\n",
       "      <td>Sun, 31 Dec 1995 13:08:20 GMT</td>\n",
       "      <td>male</td>\n",
       "      <td>586</td>\n",
       "      <td>9</td>\n",
       "      <td>RMDLYGCOFJ</td>\n",
       "      <td>33100306</td>\n",
       "    </tr>\n",
       "    <tr>\n",
       "      <th>3</th>\n",
       "      <td>Thu, 06 Apr 2017 18:11:40 GMT</td>\n",
       "      <td>male</td>\n",
       "      <td>563</td>\n",
       "      <td>11</td>\n",
       "      <td>SMFAVJTZCH</td>\n",
       "      <td>54120409</td>\n",
       "    </tr>\n",
       "    <tr>\n",
       "      <th>4</th>\n",
       "      <td>Thu, 14 May 1959 07:20:00 GMT</td>\n",
       "      <td>male</td>\n",
       "      <td>465</td>\n",
       "      <td>13</td>\n",
       "      <td>VMNOBSNDYN</td>\n",
       "      <td>25010201</td>\n",
       "    </tr>\n",
       "    <tr>\n",
       "      <th>...</th>\n",
       "      <td>...</td>\n",
       "      <td>...</td>\n",
       "      <td>...</td>\n",
       "      <td>...</td>\n",
       "      <td>...</td>\n",
       "      <td>...</td>\n",
       "    </tr>\n",
       "    <tr>\n",
       "      <th>4958</th>\n",
       "      <td>Thu, 14 Jul 1938 21:13:20 GMT</td>\n",
       "      <td>male</td>\n",
       "      <td>550</td>\n",
       "      <td>9994</td>\n",
       "      <td>IHSWMBVCCA</td>\n",
       "      <td>55100306</td>\n",
       "    </tr>\n",
       "    <tr>\n",
       "      <th>4959</th>\n",
       "      <td>Sat, 10 Jan 1942 09:43:20 GMT</td>\n",
       "      <td>male</td>\n",
       "      <td>474</td>\n",
       "      <td>9995</td>\n",
       "      <td>JJUPJXXETQ</td>\n",
       "      <td>52050308</td>\n",
       "    </tr>\n",
       "    <tr>\n",
       "      <th>4960</th>\n",
       "      <td>Tue, 15 May 1951 10:06:40 GMT</td>\n",
       "      <td>male</td>\n",
       "      <td>371</td>\n",
       "      <td>9996</td>\n",
       "      <td>FEUPMLHFVP</td>\n",
       "      <td>53130205</td>\n",
       "    </tr>\n",
       "    <tr>\n",
       "      <th>4961</th>\n",
       "      <td>Fri, 15 Mar 2019 00:13:20 GMT</td>\n",
       "      <td>male</td>\n",
       "      <td>291</td>\n",
       "      <td>9997</td>\n",
       "      <td>XJSIYNBLHI</td>\n",
       "      <td>34090201</td>\n",
       "    </tr>\n",
       "    <tr>\n",
       "      <th>4962</th>\n",
       "      <td>Thu, 27 Aug 1970 03:46:40 GMT</td>\n",
       "      <td>male</td>\n",
       "      <td>9</td>\n",
       "      <td>9998</td>\n",
       "      <td>GPUEHSNVQD</td>\n",
       "      <td>22090202</td>\n",
       "    </tr>\n",
       "  </tbody>\n",
       "</table>\n",
       "<p>4963 rows × 6 columns</p>\n",
       "</div>"
      ],
      "text/plain": [
       "                      date_of_birth gender  health_center_id    id  \\\n",
       "0     Tue, 01 Aug 2017 19:53:20 GMT   male               264     0   \n",
       "1     Mon, 04 Jul 2005 22:53:20 GMT   male               241     1   \n",
       "2     Sun, 31 Dec 1995 13:08:20 GMT   male               586     9   \n",
       "3     Thu, 06 Apr 2017 18:11:40 GMT   male               563    11   \n",
       "4     Thu, 14 May 1959 07:20:00 GMT   male               465    13   \n",
       "...                             ...    ...               ...   ...   \n",
       "4958  Thu, 14 Jul 1938 21:13:20 GMT   male               550  9994   \n",
       "4959  Sat, 10 Jan 1942 09:43:20 GMT   male               474  9995   \n",
       "4960  Tue, 15 May 1951 10:06:40 GMT   male               371  9996   \n",
       "4961  Fri, 15 Mar 2019 00:13:20 GMT   male               291  9997   \n",
       "4962  Thu, 27 Aug 1970 03:46:40 GMT   male                 9  9998   \n",
       "\n",
       "            name  village_id  \n",
       "0     OJMRJGGUNZ    34110108  \n",
       "1     OANQKDPEIT    22050104  \n",
       "2     RMDLYGCOFJ    33100306  \n",
       "3     SMFAVJTZCH    54120409  \n",
       "4     VMNOBSNDYN    25010201  \n",
       "...          ...         ...  \n",
       "4958  IHSWMBVCCA    55100306  \n",
       "4959  JJUPJXXETQ    52050308  \n",
       "4960  FEUPMLHFVP    53130205  \n",
       "4961  XJSIYNBLHI    34090201  \n",
       "4962  GPUEHSNVQD    22090202  \n",
       "\n",
       "[4963 rows x 6 columns]"
      ]
     },
     "execution_count": 12,
     "metadata": {},
     "output_type": "execute_result"
    }
   ],
   "source": [
    "male_patients_dict_df = pd.DataFrame.from_dict(male_patients_dict,orient='index')\n",
    "male_patients_dict_df"
   ]
  },
  {
   "cell_type": "markdown",
   "id": "ba389088",
   "metadata": {},
   "source": [
    "## Create resource"
   ]
  },
  {
   "cell_type": "markdown",
   "id": "2cd84f48",
   "metadata": {},
   "source": [
    "URL pattern: `http://{{domain_name}}:{{port}}/tables/{{table_name}}/create`\n",
    "\n",
    "This endpoint is for creating an entry in a database's table.\n",
    "\n",
    "The URL follows this pattern:\n",
    "\n",
    "The table below shows examples of values each variable can take:\n",
    "\n",
    "| Variable | Value |\n",
    "| --- | --- |\n",
    "| domain_name | localhost |\n",
    "| port | 3000 |\n",
    "| table_name | **patient** (can also be any table name present in the database) |\n",
    "\n",
    "Access to this endpoint needs authentication, which is done through inputing the `Authorization` header with credentials as its value (such as `{\"email\":\"`[<code>1000@gmail.com</code>](https://)`\",\"password\":\"qwert2000\"}`) in the request."
   ]
  },
  {
   "cell_type": "code",
   "execution_count": 13,
   "id": "3e119486",
   "metadata": {},
   "outputs": [
    {
     "name": "stdout",
     "output_type": "stream",
     "text": [
      "http://localhost:3000/tables/patient/create\n",
      "{'response': 'resource created'}\n"
     ]
    }
   ],
   "source": [
    "create_response_dict = query(table_name=\"patient\",\n",
    "      uri=\"/create\",\n",
    "      payload=json.dumps({\n",
    "          \"date_of_birth\": \"Tue, 01 Aug 2017 19:53:20 GMT\",\n",
    "          \"gender\": \"male\",\n",
    "          \"health_center_id\": 264,\n",
    "          \"name\": \"OJMRJGGUNZ\",\n",
    "          \"village_id\": 34110108\n",
    "        }),\n",
    "      headers={\n",
    "          'Authorization': auth_token,\n",
    "          'Content-Type': 'application/json'\n",
    "        },\n",
    "      action=\"POST\")\n",
    "print(create_response_dict)"
   ]
  },
  {
   "cell_type": "markdown",
   "id": "056f1cc6",
   "metadata": {},
   "source": [
    "## Update resource"
   ]
  },
  {
   "cell_type": "markdown",
   "id": "6bb8c329",
   "metadata": {},
   "source": [
    "URL pattern: `http://{{domain_name}}:{{port}}/tables/{{table_name}}/update/{{id}}`\n",
    "\n",
    "This endpoint is for updating an entry in a database's table.\n",
    "\n",
    "The URL follows this pattern:\n",
    "\n",
    "The table below shows examples of values each variable can take:\n",
    "\n",
    "| Variable | Value |\n",
    "| --- | --- |\n",
    "| domain_name | localhost |\n",
    "| port | 3000 |\n",
    "| table_name | **patient** (can also be any table name present in the database) |\n",
    "| id | a primary key to identify a particular entry. |\n",
    "\n",
    "Access to this endpoint needs authentication, which is done through inputing the `Authorization` header with credentials as its value (such as `{\"email\":\"`[<code>1000@gmail.com</code>](https://)`\",\"password\":\"qwert2000\"}`) in the request."
   ]
  },
  {
   "cell_type": "code",
   "execution_count": 14,
   "id": "0e2c4918",
   "metadata": {},
   "outputs": [
    {
     "name": "stdout",
     "output_type": "stream",
     "text": [
      "http://localhost:3000/tables/patient/update/10000\n",
      "{'response': 'resource updated'}\n"
     ]
    }
   ],
   "source": [
    "update_response_dict = query(table_name=\"patient\",\n",
    "      uri=\"/update/10000\",\n",
    "      payload=json.dumps({\n",
    "            \"name\" : \"FROMAA\",\n",
    "            \"date_of_birth\" : \"1940-07-10\",\n",
    "            \"gender\" :\"female\",\n",
    "            \"village_id\" : 52120102,\n",
    "            \"health_center_id\" : 903\n",
    "        }),\n",
    "      headers={\n",
    "          'Authorization': auth_token,\n",
    "          'Content-Type': 'application/json'\n",
    "        },\n",
    "      action=\"PATCH\")\n",
    "print(update_response_dict)"
   ]
  },
  {
   "cell_type": "markdown",
   "id": "5ba8631f",
   "metadata": {},
   "source": [
    "## Delete resource"
   ]
  },
  {
   "cell_type": "markdown",
   "id": "0a54871a",
   "metadata": {},
   "source": [
    "URL pattern: `http://{{domain_name}}:{{port}}/tables/{{table_name}}/delete/{{id}}`\n",
    "\n",
    "This endpoint is for deleting an entry in a database's table.\n",
    "\n",
    "The table below shows examples of values each variable can take:\n",
    "\n",
    "| Variable | Value |\n",
    "| --- | --- |\n",
    "| domain_name | localhost |\n",
    "| port | 3000 |\n",
    "| table_name | **patient** (can also be any table name present in the database) |\n",
    "| id | a primary key to identify a particular entry. |\n",
    "\n",
    "Access to this endpoint needs authentication, which is done through inputing the `Authorization` header with credentials as its value (such as `{\"email\":\"`[<code>1000@gmail.com</code>](https://)`\",\"password\":\"qwert2000\"}`) in the request."
   ]
  },
  {
   "cell_type": "code",
   "execution_count": 15,
   "id": "4c624682",
   "metadata": {},
   "outputs": [
    {
     "name": "stdout",
     "output_type": "stream",
     "text": [
      "http://localhost:3000/tables/patient/delete/10000\n",
      "{'response': 'resource deleted'}\n"
     ]
    }
   ],
   "source": [
    "delete_response_dict = query(table_name=\"patient\",\n",
    "      uri=\"/delete/10000\",\n",
    "      payload='',\n",
    "      headers={\n",
    "          'Authorization': auth_token,\n",
    "          'Content-Type': 'application/json'\n",
    "        },\n",
    "      action=\"DELETE\")\n",
    "print(delete_response_dict)"
   ]
  },
  {
   "cell_type": "code",
   "execution_count": null,
   "id": "4a09b67e",
   "metadata": {},
   "outputs": [],
   "source": []
  }
 ],
 "metadata": {
  "kernelspec": {
   "display_name": "Python 3 (ipykernel)",
   "language": "python",
   "name": "python3"
  },
  "language_info": {
   "codemirror_mode": {
    "name": "ipython",
    "version": 3
   },
   "file_extension": ".py",
   "mimetype": "text/x-python",
   "name": "python",
   "nbconvert_exporter": "python",
   "pygments_lexer": "ipython3",
   "version": "3.10.6"
  }
 },
 "nbformat": 4,
 "nbformat_minor": 5
}
